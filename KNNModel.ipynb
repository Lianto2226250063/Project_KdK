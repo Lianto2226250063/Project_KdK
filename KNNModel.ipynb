{
 "cells": [
  {
   "cell_type": "code",
   "execution_count": 19,
   "metadata": {},
   "outputs": [],
   "source": [
    "import math\n",
    "import pandas as pd\n",
    "import numpy as np\n",
    "from sklearn.model_selection import train_test_split\n",
    "from sklearn.metrics import confusion_matrix"
   ]
  },
  {
   "cell_type": "markdown",
   "metadata": {},
   "source": [
    "# Fungsi Euclidean Distance"
   ]
  },
  {
   "cell_type": "code",
   "execution_count": 20,
   "metadata": {},
   "outputs": [],
   "source": [
    "def euclidean_distance(point1, point2):\n",
    "    distance = 0\n",
    "    for i in range(len(point1)):\n",
    "        distance += (point1[i] - point2[i]) ** 2\n",
    "    return math.sqrt(distance)"
   ]
  },
  {
   "cell_type": "markdown",
   "metadata": {},
   "source": [
    "# Fungsi Manhattan Distance"
   ]
  },
  {
   "cell_type": "code",
   "execution_count": 21,
   "metadata": {},
   "outputs": [],
   "source": [
    "def manhattan_distance(point1, point2):\n",
    "    return np.sum(np.abs(point1 - point2))"
   ]
  },
  {
   "cell_type": "markdown",
   "metadata": {},
   "source": [
    "# Fungsi utama KNN"
   ]
  },
  {
   "cell_type": "code",
   "execution_count": 22,
   "metadata": {},
   "outputs": [],
   "source": [
    "def knn_classify(x_train, y_train, x_test, k):\n",
    "    predictions = []  # Daftar untuk menyimpan prediksi label\n",
    "    \n",
    "    # Iterasi untuk setiap titik data di x_test\n",
    "    for test_point in x_test.values:\n",
    "        distances = []  # Menyimpan jarak setiap data latih ke test_point\n",
    "        \n",
    "        # Hitung distance ke semua data latih\n",
    "        for i, train_point in enumerate(x_train.values):\n",
    "            distance = euclidean_distance(train_point, test_point)\n",
    "            distances.append((distance, y_train.values[i]))\n",
    "        \n",
    "        # Urutkan jarak dari terkecil dan ambil k tetangga terdekat\n",
    "        distances.sort(key=lambda x: x[0])\n",
    "        k_nearest_neighbors = distances[:k]\n",
    "        \n",
    "        # Voting: Hitung label terbanyak dari k tetangga terdekat\n",
    "        label_counts = {}\n",
    "        for neighbor in k_nearest_neighbors:\n",
    "            label = neighbor[1]\n",
    "            label_counts[label] = label_counts.get(label, 0) + 1\n",
    "        \n",
    "        # Tentukan label dengan frekuensi terbanyak\n",
    "        predicted_label = max(label_counts, key=label_counts.get)\n",
    "        predictions.append(predicted_label)\n",
    "    \n",
    "    return predictions"
   ]
  },
  {
   "cell_type": "markdown",
   "metadata": {},
   "source": [
    "# Training"
   ]
  },
  {
   "cell_type": "code",
   "execution_count": 23,
   "metadata": {},
   "outputs": [],
   "source": [
    "dataset = pd.read_csv(\"./dataset.csv\")\n",
    "\n",
    "x = dataset.iloc[:, :-1]  \n",
    "y = dataset.iloc[:, -1]   \n",
    "\n",
    "x_train, x_test, y_train, y_test = train_test_split(x, y, test_size=0.2, random_state=42)"
   ]
  },
  {
   "cell_type": "markdown",
   "metadata": {},
   "source": [
    "# Mencari K dengan akurasi tertinggi"
   ]
  },
  {
   "cell_type": "code",
   "execution_count": 24,
   "metadata": {},
   "outputs": [],
   "source": [
    "def calculate_accuracy(y_true, y_pred):\n",
    "    cm = confusion_matrix(y_true, y_pred)\n",
    "\n",
    "    # Mengambil nilai TP, TN, FP, dan FN dari confusion matrix\n",
    "    TP = cm[1, 1]\n",
    "    TN = cm[0, 0]\n",
    "    FP = cm[0, 1]\n",
    "    FN = cm[1, 0]\n",
    "\n",
    "    accuracy = (TP + TN) / (TP + TN + FP + FN)\n",
    "    return accuracy"
   ]
  },
  {
   "cell_type": "code",
   "execution_count": 25,
   "metadata": {},
   "outputs": [
    {
     "name": "stdout",
     "output_type": "stream",
     "text": [
      "Akurasi model KNN dengan k=1: 0.68\n",
      "Akurasi model KNN dengan k=3: 0.65\n",
      "Akurasi model KNN dengan k=5: 0.66\n",
      "Akurasi model KNN dengan k=7: 0.69\n",
      "Akurasi model KNN dengan k=9: 0.72\n",
      "Akurasi model KNN dengan k=11: 0.73\n",
      "Akurasi model KNN dengan k=13: 0.77\n",
      "Akurasi model KNN dengan k=15: 0.76\n",
      "Akurasi model KNN dengan k=17: 0.77\n",
      "Akurasi model KNN dengan k=19: 0.75\n",
      "Akurasi model KNN dengan k=21: 0.74\n"
     ]
    }
   ],
   "source": [
    "for k in range(1, 22, 2):\n",
    "    predicted_label = knn_classify(x_train, y_train, x_test, k)\n",
    "    accuracy = calculate_accuracy(y_test, predicted_label)\n",
    "    print(f\"Akurasi model KNN dengan k={k}: {accuracy:.2f}\")"
   ]
  },
  {
   "cell_type": "markdown",
   "metadata": {},
   "source": [
    "# Akurasi menggunakan five fold cross validation"
   ]
  },
  {
   "cell_type": "code",
   "execution_count": 26,
   "metadata": {},
   "outputs": [],
   "source": [
    "def k_fold_cross_validation(X, y, k, num_folds):\n",
    "    fold_size = len(X) // num_folds\n",
    "    accuracies = []\n",
    "\n",
    "    for fold in range(num_folds):\n",
    "        # Membagi data\n",
    "        test_indices = list(range(fold * fold_size, (fold + 1) * fold_size))\n",
    "        train_indices = [i for i in range(len(X)) if i not in test_indices]\n",
    "\n",
    "        X_train, X_test = X.iloc[train_indices], X.iloc[test_indices]\n",
    "        y_train, y_test = y.iloc[train_indices], y.iloc[test_indices]\n",
    "\n",
    "        # Prediksi menggunakan KNN\n",
    "        predicted_labels = knn_classify(X_train, y_train, X_test, k)\n",
    "\n",
    "        # Hitung akurasi\n",
    "        accuracy = calculate_accuracy(y_test, predicted_labels)\n",
    "        accuracies.append(accuracy)\n",
    "\n",
    "    # Menghitung rata-rata akurasi\n",
    "    average_accuracy = np.mean(accuracies)\n",
    "    print(f\"Akurasi Rata-Rata K-Fold Cross Validation dengan k={k} : {average_accuracy:.4f}\")\n",
    "    return average_accuracy"
   ]
  },
  {
   "cell_type": "code",
   "execution_count": 27,
   "metadata": {},
   "outputs": [
    {
     "name": "stdout",
     "output_type": "stream",
     "text": [
      "Akurasi Rata-Rata K-Fold Cross Validation dengan k=1 : 0.6549\n",
      "Akurasi Rata-Rata K-Fold Cross Validation dengan k=3 : 0.7046\n",
      "Akurasi Rata-Rata K-Fold Cross Validation dengan k=5 : 0.7203\n",
      "Akurasi Rata-Rata K-Fold Cross Validation dengan k=7 : 0.7281\n",
      "Akurasi Rata-Rata K-Fold Cross Validation dengan k=9 : 0.7399\n",
      "Akurasi Rata-Rata K-Fold Cross Validation dengan k=11 : 0.7464\n",
      "Akurasi Rata-Rata K-Fold Cross Validation dengan k=13 : 0.7477\n",
      "Akurasi Rata-Rata K-Fold Cross Validation dengan k=15 : 0.7359\n",
      "Akurasi Rata-Rata K-Fold Cross Validation dengan k=17 : 0.7438\n",
      "Akurasi Rata-Rata K-Fold Cross Validation dengan k=19 : 0.7438\n",
      "Akurasi Rata-Rata K-Fold Cross Validation dengan k=21 : 0.7425\n"
     ]
    }
   ],
   "source": [
    "for k in range(1, 22, 2):\n",
    "    k_fold_cross_validation(x,y,k,5)"
   ]
  }
 ],
 "metadata": {
  "kernelspec": {
   "display_name": "Python 3",
   "language": "python",
   "name": "python3"
  },
  "language_info": {
   "codemirror_mode": {
    "name": "ipython",
    "version": 3
   },
   "file_extension": ".py",
   "mimetype": "text/x-python",
   "name": "python",
   "nbconvert_exporter": "python",
   "pygments_lexer": "ipython3",
   "version": "3.13.2"
  }
 },
 "nbformat": 4,
 "nbformat_minor": 2
}
